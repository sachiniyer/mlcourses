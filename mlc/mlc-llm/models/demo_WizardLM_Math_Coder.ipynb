{
  "cells": [
    {
      "cell_type": "markdown",
      "metadata": {
        "id": "7aZkVRjX6hun"
      },
      "source": [
        "# Demo: WizardLM, WizardMath, and WizardCoder with MLC LLM\n",
        "\n",
        "WizardLM recently released their WizardMath model, which has achieved impressive results on various benchmarks. We take this opportunity to demonstrate MLC LLM's support for the Wizard model family: https://github.com/nlpxucan/WizardLM.\n",
        "\n",
        "Specifically, we will look at:\n",
        "- **[WizardLM](https://github.com/nlpxucan/WizardLM/tree/main/WizardLM): an instruction-following LLM using Evol-Instruct**\n",
        "- **[WizardCoder](https://github.com/nlpxucan/WizardLM/tree/main/WizardCoder): a code LLM with Evol-Instruct**\n",
        "- **[WizardMath](https://github.com/nlpxucan/WizardLM/tree/main/WizardMath): a mathematical reasoning LLM via reinforced Evol-Instruct**\n",
        "\n",
        "The task-specific Wizard models resonate with one of the visions of MLC LLM: deploying LLMs natively, each acting as **a personal AI assistant for a specific realm of tasks**.\n",
        "\n",
        "In this notebook, we walk over the steps of using MLC LLM to run these pre-compiled Wizard models! We have uploaded various versions of the pre-compiled and quantized Wizard models here: https://huggingface.co/mlc-ai.\n",
        "\n",
        "Learn more about MLC LLM here: https://mlc.ai/mlc-llm/docs."
      ]
    },
    {
      "cell_type": "markdown",
      "metadata": {
        "id": "rgD6BbKu_Dm0"
      },
      "source": [
        "Click the button below to get started!\n",
        "\n",
        "<a target=\"_blank\" href=\"https://colab.research.google.com/github/mlc-ai/notebooks/blob/main/mlc-llm/models/demo_WizardLM_Math_Coder.ipynb\">\n",
        "  <img src=\"https://colab.research.google.com/assets/colab-badge.svg\" alt=\"Open In Colab\"/>\n",
        "</a>"
      ]
    },
    {
      "cell_type": "markdown",
      "metadata": {
        "id": "rKvxnQF-9y8T"
      },
      "source": [
        "## Install MLC LLM"
      ]
    },
    {
      "cell_type": "markdown",
      "metadata": {
        "id": "cEfutAOe-48p"
      },
      "source": [
        "We will start from setting up the environment. First, let us create a new Conda environment, in which we will run the rest of the notebook.\n",
        "\n",
        "```\n",
        "conda create --name mlc-llm python=3.10\n",
        "conda activate mlc-llm\n",
        "```"
      ]
    },
    {
      "cell_type": "markdown",
      "metadata": {
        "id": "r3N6HKk8_Bbl"
      },
      "source": [
        "**Google Colab**\n",
        "\n",
        "- If you are running this in a Google Colab notebook, you would not need to create a conda environment.\n",
        "- However, be sure to change your runtime to GPU by going to `Runtime` > `Change runtime type` and setting the Hardware accelerator to be \"GPU\"."
      ]
    },
    {
      "cell_type": "markdown",
      "metadata": {
        "id": "al4bIcFv_HtH"
      },
      "source": [
        "If you are using CUDA, you can run the following command to confirm that CUDA is set up correctly, and check the driver version number as well as what GPUs are currently available for use.\n",
        "\n"
      ]
    },
    {
      "cell_type": "code",
      "execution_count": null,
      "metadata": {
        "id": "8wEfFZ8f6vT3"
      },
      "outputs": [],
      "source": [
        "!nvidia-smi"
      ]
    },
    {
      "cell_type": "markdown",
      "metadata": {
        "id": "UJnujwMT_RVZ"
      },
      "source": [
        "Next, let's download the MLC-AI and mlc-llm nightly build packages. If you are running in a Colab environment, then you can just run the following command. Otherwise, go to https://mlc.ai/package/ and replace the command below with the one that is appropriate for your hardware and OS."
      ]
    },
    {
      "cell_type": "markdown",
      "metadata": {
        "id": "s6wHMUtk_M6A"
      },
      "source": [
        "**Google Colab**: If you are using Colab, you may see the red warnings such as \"You must restart the runtime in order to use newly installed versions.\" For our purpose, we can disregard them, the notebook will still run correctly."
      ]
    },
    {
      "cell_type": "code",
      "execution_count": null,
      "metadata": {
        "id": "4TGX5fqYjyID"
      },
      "outputs": [],
      "source": [
        "!pip install --pre --force-reinstall mlc-ai-nightly-cu118 mlc-llm-nightly-cu118 -f https://mlc.ai/wheels"
      ]
    },
    {
      "cell_type": "markdown",
      "metadata": {
        "id": "HWMMGRlg_nxj"
      },
      "source": [
        "Let's confirm we have installed the packages successfully!"
      ]
    },
    {
      "cell_type": "code",
      "execution_count": null,
      "metadata": {
        "id": "4R-150I6_q6N"
      },
      "outputs": [],
      "source": [
        "!python -c \"import tvm; print('tvm installed properly!')\"\n",
        "!python -c \"import mlc_llm; print('mlc_llm installed properly!')\""
      ]
    },
    {
      "cell_type": "markdown",
      "metadata": {
        "id": "GbYg_EnT_4Qf"
      },
      "source": [
        "## Download Prebuilt Models and Library"
      ]
    },
    {
      "cell_type": "markdown",
      "metadata": {
        "id": "RdGuw9vB_8Qp"
      },
      "source": [
        "These commands will download many prebuilt libraries (e.g. `.so` files) as well as the precompiled Wizard models. This may take a while. If in **Google Colab**, you can verify that the files are being downloaded by clicking on the folder icon on the left."
      ]
    },
    {
      "cell_type": "markdown",
      "metadata": {
        "id": "29N0JS4NAOtx"
      },
      "source": [
        "Note: If you are NOT running in **Google Colab** you may need to run this line `!conda install git git-lfs` to install `git` and `git-lfs` before running the following cell."
      ]
    },
    {
      "cell_type": "code",
      "execution_count": null,
      "metadata": {
        "id": "RLU17ZZmjzPz"
      },
      "outputs": [],
      "source": [
        "!git lfs install"
      ]
    },
    {
      "cell_type": "code",
      "execution_count": null,
      "metadata": {
        "id": "oN6syhH7j2zi"
      },
      "outputs": [],
      "source": [
        "!mkdir -p dist/prebuilt\n",
        "!git clone https://github.com/mlc-ai/binary-mlc-llm-libs.git dist/prebuilt/lib"
      ]
    },
    {
      "cell_type": "code",
      "execution_count": null,
      "metadata": {
        "id": "EzU8dFr9j6VD"
      },
      "outputs": [],
      "source": [
        "!cd dist/prebuilt && git clone https://huggingface.co/mlc-ai/mlc-chat-WizardCoder-15B-V1.0-q4f16_1"
      ]
    },
    {
      "cell_type": "code",
      "execution_count": null,
      "metadata": {
        "id": "TEQwp2cMj90p"
      },
      "outputs": [],
      "source": [
        "!cd dist/prebuilt && git clone https://huggingface.co/mlc-ai/mlc-chat-WizardLM-13B-V1.2-q4f16_1"
      ]
    },
    {
      "cell_type": "code",
      "execution_count": null,
      "metadata": {
        "id": "vZvzVrngoREj"
      },
      "outputs": [],
      "source": [
        "!cd dist/prebuilt && git clone https://huggingface.co/mlc-ai/mlc-chat-WizardMath-13B-V1.0-q4f16_1"
      ]
    },
    {
      "cell_type": "code",
      "execution_count": 8,
      "metadata": {
        "id": "rK4yVJdEDvQr"
      },
      "outputs": [],
      "source": [
        "# In Colab, for some reason we need to restart runtime by running `exit()`.\n",
        "# Simply run `exit()`, then run the subsequent cells after runtime restarts.\n",
        "exit()"
      ]
    },
    {
      "cell_type": "markdown",
      "metadata": {
        "id": "PK2DVVIk8Ryv"
      },
      "source": [
        "## Let's Chat with WizardLM!"
      ]
    },
    {
      "cell_type": "code",
      "execution_count": null,
      "metadata": {
        "id": "ZX4X9mGTnKSf"
      },
      "outputs": [],
      "source": [
        "from mlc_llm import ChatModule\n",
        "from mlc_llm.callback import StreamToStdout"
      ]
    },
    {
      "cell_type": "code",
      "execution_count": null,
      "metadata": {
        "id": "4Oaj1TdxidCP"
      },
      "outputs": [],
      "source": [
        "wizard_lm = ChatModule(model=\"WizardLM-13B-V1.2-q4f16_1\", device=\"cuda\")"
      ]
    },
    {
      "cell_type": "code",
      "execution_count": null,
      "metadata": {
        "colab": {
          "base_uri": "https://localhost:8080/"
        },
        "id": "s6YdYe5AnVzN",
        "outputId": "e620e4b5-61b9-4602-a75b-d438a81c1b3a"
      },
      "outputs": [
        {
          "name": "stdout",
          "output_type": "stream",
          "text": [
            "1. New York City\n",
            "2. Los Angeles\n",
            "3. Chicago\n"
          ]
        }
      ],
      "source": [
        "output = wizard_lm.generate(\n",
        "    prompt=\"Give me three American cities names\",\n",
        "    progress_callback=StreamToStdout(callback_interval=2)\n",
        ")"
      ]
    },
    {
      "cell_type": "code",
      "execution_count": null,
      "metadata": {
        "colab": {
          "base_uri": "https://localhost:8080/"
        },
        "id": "rGwiIrKonehd",
        "outputId": "d836f5d1-4b50-4cea-9da1-a11b662954c0"
      },
      "outputs": [
        {
          "name": "stdout",
          "output_type": "stream",
          "text": [
            "4. Las Vegas\n",
            "5. Miami\n"
          ]
        }
      ],
      "source": [
        "output = wizard_lm.generate(\n",
        "    prompt=\"Give me two more\",\n",
        "    progress_callback=StreamToStdout(callback_interval=2)\n",
        ")"
      ]
    },
    {
      "cell_type": "code",
      "execution_count": null,
      "metadata": {
        "id": "WUdq7Z-qpABZ"
      },
      "outputs": [],
      "source": [
        "# In Colab, for some reason we need to restart runtime by running `exit()`.\n",
        "# Simply run `exit()`, then run the subsequent cells after runtime restarts.\n",
        "exit()"
      ]
    },
    {
      "cell_type": "markdown",
      "metadata": {
        "id": "XuHZgZhY8YoB"
      },
      "source": [
        "## Let's Solve a Math Problem with WizardMath!"
      ]
    },
    {
      "cell_type": "code",
      "execution_count": null,
      "metadata": {
        "id": "WxnBldtMqn2Y"
      },
      "outputs": [],
      "source": [
        "from mlc_llm import ChatModule\n",
        "from mlc_llm.callback import StreamToStdout"
      ]
    },
    {
      "cell_type": "code",
      "execution_count": null,
      "metadata": {
        "id": "5z3Cx8NChz-z"
      },
      "outputs": [],
      "source": [
        "wizard_math = ChatModule(model=\"WizardMath-13B-V1.0-q4f16_1\", device=\"cuda\")"
      ]
    },
    {
      "cell_type": "code",
      "execution_count": null,
      "metadata": {
        "colab": {
          "base_uri": "https://localhost:8080/"
        },
        "id": "ufta9VbyqtlN",
        "outputId": "196f3ca1-2837-4b48-b52a-b012b840d3a4"
      },
      "outputs": [
        {
          "name": "stdout",
          "output_type": "stream",
          "text": [
            "\n",
            "Step 1: Define the variables.\n",
            "Let C represent the number of chickens and R represent the number of rabbits.\n",
            "\n",
            "Step 2: Write the equations based on the given information.\n",
            "We know that the total number of legs is 14, so we can write the equation:\n",
            "2C + 4R = 14\n",
            "\n",
            "We also know that there are 5 animals in total, so we can write the equation:\n",
            "C + R = 5\n",
            "\n",
            "Step 3: Solve the system of equations.\n",
            "We can solve this system of equations using the substitution method. First, we'll solve the second equation for R:\n",
            "R = 5 - C\n",
            "\n",
            "Now, we'll substitute this expression for R into the first equation:\n",
            "2C + 4(5 - C) = 14\n",
            "\n",
            "Step 4: Simplify and solve for C.\n",
            "2C + 20 - 4C = 14\n",
            "-2C = -6\n",
            "C = 3\n",
            "\n",
            "Step 5: Find the number of rabbits.\n",
            "Now that we know there are 3 chickens, we can find the number of rabbits using the equation R = 5 - C:\n",
            "R = 5 - 3\n",
            "R = 2\n",
            "\n",
            "Step 6: Provide the final answer.\n",
            "There are 3 chickens and 2 rabbits, so the answer is:\n",
            "C + R = 3 + 2 = 5\n",
            "There are 5 animals in total, and since we found that there are 3 chickens, there must be 2 rabbits.\n",
            "\n",
            "The answer is: 3.\n"
          ]
        }
      ],
      "source": [
        "prompt=(\n",
        "    \"A chicken has 2 legs, and a rabbit has 4 legs. Given that there are 5 animals \"\n",
        "    \"in total, and 14 legs in total, how many chicken are there? Show your steps.\"\n",
        ")\n",
        "output = wizard_math.generate(prompt, StreamToStdout(callback_interval=2))"
      ]
    },
    {
      "cell_type": "code",
      "execution_count": null,
      "metadata": {
        "id": "tsFRIhwKrMP1"
      },
      "outputs": [],
      "source": [
        "# In Colab, for some reason we need to restart runtime by running `exit()`.\n",
        "# Simply run `exit()`, then run the subsequent cells after runtime restarts.\n",
        "exit()"
      ]
    },
    {
      "cell_type": "markdown",
      "metadata": {
        "id": "IFjaA-yC8iH5"
      },
      "source": [
        "## Let's Solve a Leetcode with WizardCoder!\n",
        "\n",
        "WizardMath tends to give Markdown format output, which is really cool! We use `IPython.display` to display the output as Markdown!"
      ]
    },
    {
      "cell_type": "code",
      "execution_count": 1,
      "metadata": {
        "id": "esuPRZQSfxYl"
      },
      "outputs": [],
      "source": [
        "from mlc_llm import ChatModule\n",
        "from IPython.display import display, Markdown, Latex"
      ]
    },
    {
      "cell_type": "code",
      "execution_count": null,
      "metadata": {
        "id": "-LqAcTW5214y"
      },
      "outputs": [],
      "source": [
        "wizard_coder = ChatModule(model=\"WizardCoder-15B-V1.0-q4f16_1\", device=\"cuda\")"
      ]
    },
    {
      "cell_type": "code",
      "execution_count": 3,
      "metadata": {
        "colab": {
          "base_uri": "https://localhost:8080/",
          "height": 338
        },
        "id": "neZIfq8ntFxo",
        "outputId": "130abead-a928-49e5-c3ff-509d2636cbdd"
      },
      "outputs": [
        {
          "data": {
            "text/markdown": [
              "A number is said to be a palindrome if it reads the same backward as forward. For example, 121, 444, and 999 are palindromes, while 123, 777, and 555 are not.\r\n",
              "\r\n",
              "Here's the Python code to determine whether a number is a palindrome:\r\n",
              "\r\n",
              "```python\r\n",
              "num = input(\"Enter a number: \")  # take input from user\r\n",
              "\r\n",
              "# convert the number to a string to check if it's a palindrome\r\n",
              "num_str = str(num)\r\n",
              "\r\n",
              "# reverse the string and compare it with the original string\r\n",
              "if num_str == num_str[::-1]:\r\n",
              "    print(num, \"is a palindrome\")\r\n",
              "else:\r\n",
              "    print(num, \"is not a palindrome\")\r\n",
              "```\r\n",
              "\r\n",
              "In this code, we first take input from the user using the `input()` function and store it in the variable `num`. We then convert the number to a string using the `str()` function and store it in the variable `num_str`.\r\n",
              "\r\n",
              "We then use slicing to reverse the string and compare it with the original string. If they are the same, then the number is a palindrome. Otherwise, it's not.\r\n",
              "\r\n",
              "Note that we use the `[::-1]` syntax to reverse the string. This is a shorthand for slicing the string from start to end with a step of -1 (i.e. backwards)."
            ],
            "text/plain": [
              "<IPython.core.display.Markdown object>"
            ]
          },
          "metadata": {},
          "output_type": "display_data"
        }
      ],
      "source": [
        "prompt= \"Write a Python program that determines whether a number is a palindrome.\"\n",
        "output = wizard_coder.generate(prompt=prompt)\n",
        "display(Markdown(output))"
      ]
    },
    {
      "cell_type": "code",
      "execution_count": 4,
      "metadata": {
        "colab": {
          "base_uri": "https://localhost:8080/"
        },
        "id": "eZjgzNvPf-Qd",
        "outputId": "66a7a1e5-9fd4-4bf5-d4d3-9a90fd0479aa"
      },
      "outputs": [
        {
          "name": "stdout",
          "output_type": "stream",
          "text": [
            "A number is said to be a palindrome if it reads the same backward as forward. For example, 121, 444, and 999 are palindromes, while 123, 777, and 555 are not.\r\n",
            "\r\n",
            "Here's the Python code to determine whether a number is a palindrome:\r\n",
            "\r\n",
            "```python\r\n",
            "num = input(\"Enter a number: \")  # take input from user\r\n",
            "\r\n",
            "# convert the number to a string to check if it's a palindrome\r\n",
            "num_str = str(num)\r\n",
            "\r\n",
            "# reverse the string and compare it with the original string\r\n",
            "if num_str == num_str[::-1]:\r\n",
            "    print(num, \"is a palindrome\")\r\n",
            "else:\r\n",
            "    print(num, \"is not a palindrome\")\r\n",
            "```\r\n",
            "\r\n",
            "In this code, we first take input from the user using the `input()` function and store it in the variable `num`. We then convert the number to a string using the `str()` function and store it in the variable `num_str`.\r\n",
            "\r\n",
            "We then use slicing to reverse the string and compare it with the original string. If they are the same, then the number is a palindrome. Otherwise, it's not.\r\n",
            "\r\n",
            "Note that we use the `[::-1]` syntax to reverse the string. This is a shorthand for slicing the string from start to end with a step of -1 (i.e. backwards).\n"
          ]
        }
      ],
      "source": [
        "print(output)"
      ]
    },
    {
      "cell_type": "code",
      "execution_count": 5,
      "metadata": {
        "colab": {
          "base_uri": "https://localhost:8080/",
          "height": 507
        },
        "id": "r3Mny3Sa-xiN",
        "outputId": "256a41f3-cc63-4fd8-bbcd-bf12d0fe032e"
      },
      "outputs": [
        {
          "data": {
            "text/markdown": [
              "Here's the Java code to determine whether a number is a palindrome:\r\n",
              "\r\n",
              "```java\r\n",
              "import java.util.Scanner;\r\n",
              "\r\n",
              "public class Palindrome {\r\n",
              "    public static void main(String[] args) {\r\n",
              "        Scanner sc = new Scanner(System.in);\r\n",
              "        System.out.print(\"Enter a number: \");\r\n",
              "        int num = sc.nextInt();\r\n",
              "\r\n",
              "        // convert the number to a string to check if it's a palindrome\r\n",
              "        String numStr = Integer.toString(num);\r\n",
              "\r\n",
              "        // reverse the string and compare it with the original string\r\n",
              "        if (numStr.equals(new StringBuilder(numStr).reverse().toString())) {\r\n",
              "            System.out.println(num + \" is a palindrome\");\r\n",
              "        } else {\r\n",
              "            System.out.println(num + \" is not a palindrome\");\r\n",
              "        }\r\n",
              "    }\r\n",
              "}\r\n",
              "```\r\n",
              "\r\n",
              "In this code, we first use the `Scanner` class to take input from the user. We then convert the number to a string using the `Integer.toString()` method and store it in the variable `numStr`.\r\n",
              "\r\n",
              "We then use the `StringBuilder` class to reverse the string and compare it with the original string. If they are the same, then the number is a palindrome. Otherwise, it's not.\r\n",
              "\r\n",
              "Note that we use the `new StringBuilder(numStr).reverse().toString()` syntax to reverse the string. This is a shorthand for creating a new `StringBuilder` object with the `numStr` string, reversing it, and then converting it back to a string using the `toString()` method."
            ],
            "text/plain": [
              "<IPython.core.display.Markdown object>"
            ]
          },
          "metadata": {},
          "output_type": "display_data"
        }
      ],
      "source": [
        "output = wizard_coder.generate(prompt=\"Write this in Java instead.\")\n",
        "display(Markdown(output))"
      ]
    },
    {
      "cell_type": "code",
      "execution_count": 6,
      "metadata": {
        "colab": {
          "base_uri": "https://localhost:8080/"
        },
        "id": "PWnD4C6dI6-X",
        "outputId": "286a84e8-2507-4fbd-c765-45eef888ee3e"
      },
      "outputs": [
        {
          "name": "stdout",
          "output_type": "stream",
          "text": [
            "Here's the Java code to determine whether a number is a palindrome:\r\n",
            "\r\n",
            "```java\r\n",
            "import java.util.Scanner;\r\n",
            "\r\n",
            "public class Palindrome {\r\n",
            "    public static void main(String[] args) {\r\n",
            "        Scanner sc = new Scanner(System.in);\r\n",
            "        System.out.print(\"Enter a number: \");\r\n",
            "        int num = sc.nextInt();\r\n",
            "\r\n",
            "        // convert the number to a string to check if it's a palindrome\r\n",
            "        String numStr = Integer.toString(num);\r\n",
            "\r\n",
            "        // reverse the string and compare it with the original string\r\n",
            "        if (numStr.equals(new StringBuilder(numStr).reverse().toString())) {\r\n",
            "            System.out.println(num + \" is a palindrome\");\r\n",
            "        } else {\r\n",
            "            System.out.println(num + \" is not a palindrome\");\r\n",
            "        }\r\n",
            "    }\r\n",
            "}\r\n",
            "```\r\n",
            "\r\n",
            "In this code, we first use the `Scanner` class to take input from the user. We then convert the number to a string using the `Integer.toString()` method and store it in the variable `numStr`.\r\n",
            "\r\n",
            "We then use the `StringBuilder` class to reverse the string and compare it with the original string. If they are the same, then the number is a palindrome. Otherwise, it's not.\r\n",
            "\r\n",
            "Note that we use the `new StringBuilder(numStr).reverse().toString()` syntax to reverse the string. This is a shorthand for creating a new `StringBuilder` object with the `numStr` string, reversing it, and then converting it back to a string using the `toString()` method.\n"
          ]
        }
      ],
      "source": [
        "print(output)"
      ]
    }
  ],
  "metadata": {
    "accelerator": "GPU",
    "colab": {
      "gpuType": "T4",
      "provenance": []
    },
    "kernelspec": {
      "display_name": "Python 3",
      "name": "python3"
    },
    "language_info": {
      "name": "python"
    }
  },
  "nbformat": 4,
  "nbformat_minor": 0
}
